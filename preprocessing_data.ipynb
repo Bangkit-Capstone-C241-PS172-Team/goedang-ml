{
 "cells": [
  {
   "cell_type": "markdown",
   "metadata": {},
   "source": [
    "## Preprocessing"
   ]
  },
  {
   "cell_type": "code",
   "execution_count": 1,
   "metadata": {},
   "outputs": [],
   "source": [
    "import pandas as pd\n",
    "import matplotlib.pyplot as plt"
   ]
  },
  {
   "cell_type": "code",
   "execution_count": 32,
   "metadata": {},
   "outputs": [
    {
     "data": {
      "text/html": [
       "<div>\n",
       "<style scoped>\n",
       "    .dataframe tbody tr th:only-of-type {\n",
       "        vertical-align: middle;\n",
       "    }\n",
       "\n",
       "    .dataframe tbody tr th {\n",
       "        vertical-align: top;\n",
       "    }\n",
       "\n",
       "    .dataframe thead th {\n",
       "        text-align: right;\n",
       "    }\n",
       "</style>\n",
       "<table border=\"1\" class=\"dataframe\">\n",
       "  <thead>\n",
       "    <tr style=\"text-align: right;\">\n",
       "      <th></th>\n",
       "      <th>tanggal</th>\n",
       "      <th>jenis</th>\n",
       "      <th>qty</th>\n",
       "      <th>harga</th>\n",
       "      <th>jumlah</th>\n",
       "    </tr>\n",
       "  </thead>\n",
       "  <tbody>\n",
       "    <tr>\n",
       "      <th>0</th>\n",
       "      <td>5/8/2023</td>\n",
       "      <td>CRMTT</td>\n",
       "      <td>1,000.00</td>\n",
       "      <td>23,000.00</td>\n",
       "      <td>23,000,000.00</td>\n",
       "    </tr>\n",
       "    <tr>\n",
       "      <th>1</th>\n",
       "      <td>5/10/2023</td>\n",
       "      <td>CRMTT</td>\n",
       "      <td>958.00</td>\n",
       "      <td>23,000.00</td>\n",
       "      <td>22,034,000.00</td>\n",
       "    </tr>\n",
       "    <tr>\n",
       "      <th>2</th>\n",
       "      <td>5/11/2023</td>\n",
       "      <td>CRMTT</td>\n",
       "      <td>1,042.00</td>\n",
       "      <td>23,000.00</td>\n",
       "      <td>23,966,000.00</td>\n",
       "    </tr>\n",
       "    <tr>\n",
       "      <th>3</th>\n",
       "      <td>5/11/2023</td>\n",
       "      <td>CRMTT</td>\n",
       "      <td>508.00</td>\n",
       "      <td>30,000.00</td>\n",
       "      <td>15,240,000.00</td>\n",
       "    </tr>\n",
       "    <tr>\n",
       "      <th>4</th>\n",
       "      <td>5/13/2023</td>\n",
       "      <td>CRMTT</td>\n",
       "      <td>1,291.00</td>\n",
       "      <td>30,000.00</td>\n",
       "      <td>38,730,000.00</td>\n",
       "    </tr>\n",
       "  </tbody>\n",
       "</table>\n",
       "</div>"
      ],
      "text/plain": [
       "     tanggal  jenis       qty      harga         jumlah\n",
       "0   5/8/2023  CRMTT  1,000.00  23,000.00  23,000,000.00\n",
       "1  5/10/2023  CRMTT    958.00  23,000.00  22,034,000.00\n",
       "2  5/11/2023  CRMTT  1,042.00  23,000.00  23,966,000.00\n",
       "3  5/11/2023  CRMTT    508.00  30,000.00  15,240,000.00\n",
       "4  5/13/2023  CRMTT  1,291.00  30,000.00  38,730,000.00"
      ]
     },
     "execution_count": 32,
     "metadata": {},
     "output_type": "execute_result"
    }
   ],
   "source": [
    "# read dataset\n",
    "data = pd.read_csv(\"data/ds_crmtt.csv\")\n",
    "data.head()"
   ]
  },
  {
   "cell_type": "code",
   "execution_count": 33,
   "metadata": {},
   "outputs": [
    {
     "name": "stdout",
     "output_type": "stream",
     "text": [
      "<class 'pandas.core.frame.DataFrame'>\n",
      "RangeIndex: 210 entries, 0 to 209\n",
      "Data columns (total 5 columns):\n",
      " #   Column   Non-Null Count  Dtype \n",
      "---  ------   --------------  ----- \n",
      " 0   tanggal  210 non-null    object\n",
      " 1   jenis    210 non-null    object\n",
      " 2   qty      210 non-null    object\n",
      " 3   harga    210 non-null    object\n",
      " 4   jumlah   210 non-null    object\n",
      "dtypes: object(5)\n",
      "memory usage: 8.3+ KB\n"
     ]
    }
   ],
   "source": [
    "# membaca informasi data\n",
    "data.info()"
   ]
  },
  {
   "cell_type": "code",
   "execution_count": 44,
   "metadata": {},
   "outputs": [],
   "source": [
    "# copy data\n",
    "df = data.copy()"
   ]
  },
  {
   "cell_type": "code",
   "execution_count": 45,
   "metadata": {},
   "outputs": [],
   "source": [
    "# mengubah df type\n",
    "df[\"tanggal\"] = pd.to_datetime(df[\"tanggal\"], format='%m/%d/%Y')\n",
    "\n",
    "df[\"harga\"] = df[\"harga\"].str.replace(\",\", \"\")\n",
    "df[\"harga\"] = df[\"harga\"].str.replace(\" \", \"\")\n",
    "df[\"harga\"] = df[\"harga\"].str.replace(\".\", \"\")\n",
    "df[\"harga\"] = df[\"harga\"].astype(int)\n",
    "\n",
    "df[\"qty\"] = df[\"qty\"].str.replace(\",\", \"\")\n",
    "df[\"qty\"] = df[\"qty\"].str.replace(\".\", \"\")\n",
    "df[\"qty\"] = df[\"qty\"].str.replace(\" \", \"\")\n",
    "df[\"qty\"] = df[\"qty\"].astype(int)\n",
    "\n",
    "df[\"jumlah\"] = df[\"jumlah\"].str.replace(\",\", \"\")\n",
    "df[\"jumlah\"] = df[\"jumlah\"].str.replace(\" \", \"\")\n",
    "df[\"jumlah\"] = df[\"jumlah\"].str.replace(\".\", \"\")\n",
    "df[\"jumlah\"] = df[\"jumlah\"].astype(float)"
   ]
  },
  {
   "cell_type": "code",
   "execution_count": 46,
   "metadata": {},
   "outputs": [
    {
     "name": "stdout",
     "output_type": "stream",
     "text": [
      "<class 'pandas.core.frame.DataFrame'>\n",
      "RangeIndex: 210 entries, 0 to 209\n",
      "Data columns (total 5 columns):\n",
      " #   Column   Non-Null Count  Dtype         \n",
      "---  ------   --------------  -----         \n",
      " 0   tanggal  210 non-null    datetime64[ns]\n",
      " 1   jenis    210 non-null    object        \n",
      " 2   qty      210 non-null    int32         \n",
      " 3   harga    210 non-null    int32         \n",
      " 4   jumlah   210 non-null    float64       \n",
      "dtypes: datetime64[ns](1), float64(1), int32(2), object(1)\n",
      "memory usage: 6.7+ KB\n"
     ]
    }
   ],
   "source": [
    "df.info()"
   ]
  },
  {
   "cell_type": "code",
   "execution_count": 47,
   "metadata": {},
   "outputs": [
    {
     "data": {
      "text/plain": [
       "tanggal    0\n",
       "jenis      0\n",
       "qty        0\n",
       "harga      0\n",
       "jumlah     0\n",
       "dtype: int64"
      ]
     },
     "execution_count": 47,
     "metadata": {},
     "output_type": "execute_result"
    }
   ],
   "source": [
    "# mengecek missing value\n",
    "df.isnull().sum()"
   ]
  },
  {
   "cell_type": "code",
   "execution_count": 48,
   "metadata": {},
   "outputs": [
    {
     "data": {
      "text/plain": [
       "0"
      ]
     },
     "execution_count": 48,
     "metadata": {},
     "output_type": "execute_result"
    }
   ],
   "source": [
    "# mengecek duplicate value\n",
    "df.duplicated().sum()"
   ]
  },
  {
   "cell_type": "code",
   "execution_count": 49,
   "metadata": {},
   "outputs": [
    {
     "data": {
      "text/html": [
       "<div>\n",
       "<style scoped>\n",
       "    .dataframe tbody tr th:only-of-type {\n",
       "        vertical-align: middle;\n",
       "    }\n",
       "\n",
       "    .dataframe tbody tr th {\n",
       "        vertical-align: top;\n",
       "    }\n",
       "\n",
       "    .dataframe thead th {\n",
       "        text-align: right;\n",
       "    }\n",
       "</style>\n",
       "<table border=\"1\" class=\"dataframe\">\n",
       "  <thead>\n",
       "    <tr style=\"text-align: right;\">\n",
       "      <th></th>\n",
       "      <th>tanggal</th>\n",
       "      <th>jenis</th>\n",
       "      <th>qty</th>\n",
       "      <th>harga</th>\n",
       "      <th>jumlah</th>\n",
       "    </tr>\n",
       "  </thead>\n",
       "  <tbody>\n",
       "    <tr>\n",
       "      <th>0</th>\n",
       "      <td>2023-05-08</td>\n",
       "      <td>CRMTT</td>\n",
       "      <td>100000</td>\n",
       "      <td>2300000</td>\n",
       "      <td>2.300000e+09</td>\n",
       "    </tr>\n",
       "    <tr>\n",
       "      <th>1</th>\n",
       "      <td>2023-05-10</td>\n",
       "      <td>CRMTT</td>\n",
       "      <td>95800</td>\n",
       "      <td>2300000</td>\n",
       "      <td>2.203400e+09</td>\n",
       "    </tr>\n",
       "    <tr>\n",
       "      <th>2</th>\n",
       "      <td>2023-05-11</td>\n",
       "      <td>CRMTT</td>\n",
       "      <td>155000</td>\n",
       "      <td>5300000</td>\n",
       "      <td>3.920600e+09</td>\n",
       "    </tr>\n",
       "    <tr>\n",
       "      <th>3</th>\n",
       "      <td>2023-05-13</td>\n",
       "      <td>CRMTT</td>\n",
       "      <td>129100</td>\n",
       "      <td>3000000</td>\n",
       "      <td>3.873000e+09</td>\n",
       "    </tr>\n",
       "    <tr>\n",
       "      <th>4</th>\n",
       "      <td>2023-05-18</td>\n",
       "      <td>CRMTT</td>\n",
       "      <td>5750</td>\n",
       "      <td>3000000</td>\n",
       "      <td>1.725000e+08</td>\n",
       "    </tr>\n",
       "  </tbody>\n",
       "</table>\n",
       "</div>"
      ],
      "text/plain": [
       "     tanggal  jenis     qty    harga        jumlah\n",
       "0 2023-05-08  CRMTT  100000  2300000  2.300000e+09\n",
       "1 2023-05-10  CRMTT   95800  2300000  2.203400e+09\n",
       "2 2023-05-11  CRMTT  155000  5300000  3.920600e+09\n",
       "3 2023-05-13  CRMTT  129100  3000000  3.873000e+09\n",
       "4 2023-05-18  CRMTT    5750  3000000  1.725000e+08"
      ]
     },
     "execution_count": 49,
     "metadata": {},
     "output_type": "execute_result"
    }
   ],
   "source": [
    "# group by tanggal\n",
    "df_group = df.groupby([\"tanggal\", \"jenis\"]).agg({\"qty\": \"sum\",\"harga\": \"sum\",\"jumlah\": \"sum\"}).reset_index()\n",
    "df_group.head()"
   ]
  },
  {
   "cell_type": "code",
   "execution_count": 55,
   "metadata": {},
   "outputs": [],
   "source": [
    "# create data range \n",
    "min_date = df_group['tanggal'].min()\n",
    "max_date = df_group['tanggal'].max()\n",
    "\n",
    "# buat range data tanggal\n",
    "date_range = pd.date_range(start=min_date, end=max_date)\n",
    "df_tanggal= pd.DataFrame(date_range, columns=['tanggal'])"
   ]
  },
  {
   "cell_type": "code",
   "execution_count": 57,
   "metadata": {},
   "outputs": [
    {
     "data": {
      "text/plain": [
       "(210, 5)"
      ]
     },
     "execution_count": 57,
     "metadata": {},
     "output_type": "execute_result"
    }
   ],
   "source": [
    "df_tanggal.head()\n",
    "df.shape"
   ]
  },
  {
   "cell_type": "code",
   "execution_count": 75,
   "metadata": {},
   "outputs": [
    {
     "data": {
      "text/html": [
       "<div>\n",
       "<style scoped>\n",
       "    .dataframe tbody tr th:only-of-type {\n",
       "        vertical-align: middle;\n",
       "    }\n",
       "\n",
       "    .dataframe tbody tr th {\n",
       "        vertical-align: top;\n",
       "    }\n",
       "\n",
       "    .dataframe thead th {\n",
       "        text-align: right;\n",
       "    }\n",
       "</style>\n",
       "<table border=\"1\" class=\"dataframe\">\n",
       "  <thead>\n",
       "    <tr style=\"text-align: right;\">\n",
       "      <th></th>\n",
       "      <th>tanggal</th>\n",
       "      <th>jenis</th>\n",
       "      <th>qty</th>\n",
       "      <th>harga</th>\n",
       "      <th>jumlah</th>\n",
       "    </tr>\n",
       "  </thead>\n",
       "  <tbody>\n",
       "    <tr>\n",
       "      <th>0</th>\n",
       "      <td>2023-05-08</td>\n",
       "      <td>CRMTT</td>\n",
       "      <td>100000.0</td>\n",
       "      <td>2300000.0</td>\n",
       "      <td>2.300000e+09</td>\n",
       "    </tr>\n",
       "    <tr>\n",
       "      <th>1</th>\n",
       "      <td>2023-05-09</td>\n",
       "      <td>NaN</td>\n",
       "      <td>NaN</td>\n",
       "      <td>NaN</td>\n",
       "      <td>NaN</td>\n",
       "    </tr>\n",
       "    <tr>\n",
       "      <th>2</th>\n",
       "      <td>2023-05-10</td>\n",
       "      <td>CRMTT</td>\n",
       "      <td>95800.0</td>\n",
       "      <td>2300000.0</td>\n",
       "      <td>2.203400e+09</td>\n",
       "    </tr>\n",
       "    <tr>\n",
       "      <th>3</th>\n",
       "      <td>2023-05-11</td>\n",
       "      <td>CRMTT</td>\n",
       "      <td>155000.0</td>\n",
       "      <td>5300000.0</td>\n",
       "      <td>3.920600e+09</td>\n",
       "    </tr>\n",
       "    <tr>\n",
       "      <th>4</th>\n",
       "      <td>2023-05-12</td>\n",
       "      <td>NaN</td>\n",
       "      <td>NaN</td>\n",
       "      <td>NaN</td>\n",
       "      <td>NaN</td>\n",
       "    </tr>\n",
       "  </tbody>\n",
       "</table>\n",
       "</div>"
      ],
      "text/plain": [
       "     tanggal  jenis       qty      harga        jumlah\n",
       "0 2023-05-08  CRMTT  100000.0  2300000.0  2.300000e+09\n",
       "1 2023-05-09    NaN       NaN        NaN           NaN\n",
       "2 2023-05-10  CRMTT   95800.0  2300000.0  2.203400e+09\n",
       "3 2023-05-11  CRMTT  155000.0  5300000.0  3.920600e+09\n",
       "4 2023-05-12    NaN       NaN        NaN           NaN"
      ]
     },
     "execution_count": 75,
     "metadata": {},
     "output_type": "execute_result"
    }
   ],
   "source": [
    "# menggabungkan dataset\n",
    "merged_df = pd.merge(df_tanggal, df_group, on='tanggal', how='left')\n",
    "merged_df.head()"
   ]
  },
  {
   "cell_type": "code",
   "execution_count": 76,
   "metadata": {},
   "outputs": [
    {
     "name": "stderr",
     "output_type": "stream",
     "text": [
      "C:\\Users\\Aditya\\AppData\\Local\\Temp\\ipykernel_11036\\1838387698.py:3: FutureWarning: A value is trying to be set on a copy of a DataFrame or Series through chained assignment using an inplace method.\n",
      "The behavior will change in pandas 3.0. This inplace method will never work because the intermediate object on which we are setting values always behaves as a copy.\n",
      "\n",
      "For example, when doing 'df[col].method(value, inplace=True)', try using 'df.method({col: value}, inplace=True)' or df[col] = df[col].method(value) instead, to perform the operation inplace on the original object.\n",
      "\n",
      "\n",
      "  merged_df[\"qty\"].interpolate(inplace=True)\n",
      "C:\\Users\\Aditya\\AppData\\Local\\Temp\\ipykernel_11036\\1838387698.py:4: FutureWarning: A value is trying to be set on a copy of a DataFrame or Series through chained assignment using an inplace method.\n",
      "The behavior will change in pandas 3.0. This inplace method will never work because the intermediate object on which we are setting values always behaves as a copy.\n",
      "\n",
      "For example, when doing 'df[col].method(value, inplace=True)', try using 'df.method({col: value}, inplace=True)' or df[col] = df[col].method(value) instead, to perform the operation inplace on the original object.\n",
      "\n",
      "\n",
      "  merged_df[\"jumlah\"].interpolate(inplace=True)\n",
      "C:\\Users\\Aditya\\AppData\\Local\\Temp\\ipykernel_11036\\1838387698.py:5: FutureWarning: A value is trying to be set on a copy of a DataFrame or Series through chained assignment using an inplace method.\n",
      "The behavior will change in pandas 3.0. This inplace method will never work because the intermediate object on which we are setting values always behaves as a copy.\n",
      "\n",
      "For example, when doing 'df[col].method(value, inplace=True)', try using 'df.method({col: value}, inplace=True)' or df[col] = df[col].method(value) instead, to perform the operation inplace on the original object.\n",
      "\n",
      "\n",
      "  merged_df[\"harga\"].interpolate(inplace=True)\n"
     ]
    },
    {
     "data": {
      "text/html": [
       "<div>\n",
       "<style scoped>\n",
       "    .dataframe tbody tr th:only-of-type {\n",
       "        vertical-align: middle;\n",
       "    }\n",
       "\n",
       "    .dataframe tbody tr th {\n",
       "        vertical-align: top;\n",
       "    }\n",
       "\n",
       "    .dataframe thead th {\n",
       "        text-align: right;\n",
       "    }\n",
       "</style>\n",
       "<table border=\"1\" class=\"dataframe\">\n",
       "  <thead>\n",
       "    <tr style=\"text-align: right;\">\n",
       "      <th></th>\n",
       "      <th>tanggal</th>\n",
       "      <th>jenis</th>\n",
       "      <th>qty</th>\n",
       "      <th>harga</th>\n",
       "      <th>jumlah</th>\n",
       "    </tr>\n",
       "  </thead>\n",
       "  <tbody>\n",
       "    <tr>\n",
       "      <th>0</th>\n",
       "      <td>2023-05-08</td>\n",
       "      <td>CRMTT</td>\n",
       "      <td>100000.0</td>\n",
       "      <td>2300000.0</td>\n",
       "      <td>2.300000e+09</td>\n",
       "    </tr>\n",
       "    <tr>\n",
       "      <th>1</th>\n",
       "      <td>2023-05-09</td>\n",
       "      <td>CRMTT</td>\n",
       "      <td>97900.0</td>\n",
       "      <td>2300000.0</td>\n",
       "      <td>2.251700e+09</td>\n",
       "    </tr>\n",
       "    <tr>\n",
       "      <th>2</th>\n",
       "      <td>2023-05-10</td>\n",
       "      <td>CRMTT</td>\n",
       "      <td>95800.0</td>\n",
       "      <td>2300000.0</td>\n",
       "      <td>2.203400e+09</td>\n",
       "    </tr>\n",
       "    <tr>\n",
       "      <th>3</th>\n",
       "      <td>2023-05-11</td>\n",
       "      <td>CRMTT</td>\n",
       "      <td>155000.0</td>\n",
       "      <td>5300000.0</td>\n",
       "      <td>3.920600e+09</td>\n",
       "    </tr>\n",
       "    <tr>\n",
       "      <th>4</th>\n",
       "      <td>2023-05-12</td>\n",
       "      <td>CRMTT</td>\n",
       "      <td>142050.0</td>\n",
       "      <td>4150000.0</td>\n",
       "      <td>3.896800e+09</td>\n",
       "    </tr>\n",
       "  </tbody>\n",
       "</table>\n",
       "</div>"
      ],
      "text/plain": [
       "     tanggal  jenis       qty      harga        jumlah\n",
       "0 2023-05-08  CRMTT  100000.0  2300000.0  2.300000e+09\n",
       "1 2023-05-09  CRMTT   97900.0  2300000.0  2.251700e+09\n",
       "2 2023-05-10  CRMTT   95800.0  2300000.0  2.203400e+09\n",
       "3 2023-05-11  CRMTT  155000.0  5300000.0  3.920600e+09\n",
       "4 2023-05-12  CRMTT  142050.0  4150000.0  3.896800e+09"
      ]
     },
     "execution_count": 76,
     "metadata": {},
     "output_type": "execute_result"
    }
   ],
   "source": [
    "# mengisi nilai kosong\n",
    "merged_df[\"jenis\"] = merged_df[\"jenis\"].fillna(\"CRMTT\")\n",
    "merged_df[\"qty\"].interpolate(inplace=True)\n",
    "merged_df[\"jumlah\"].interpolate(inplace=True)\n",
    "merged_df[\"harga\"].interpolate(inplace=True)\n",
    "merged_df.head()"
   ]
  },
  {
   "cell_type": "code",
   "execution_count": 74,
   "metadata": {},
   "outputs": [
    {
     "name": "stdout",
     "output_type": "stream",
     "text": [
      "tanggal    0\n",
      "jenis      0\n",
      "qty        0\n",
      "harga      0\n",
      "jumlah     0\n",
      "dtype: int64\n",
      "0\n"
     ]
    }
   ],
   "source": [
    "print(merged_df.isnull().sum())\n",
    "print(merged_df.duplicated().sum())"
   ]
  },
  {
   "cell_type": "code",
   "execution_count": 77,
   "metadata": {},
   "outputs": [],
   "source": [
    "# save dataset\n",
    "merged_df.to_csv(\"data/ds_crmtt_clean.csv\", index=False)"
   ]
  },
  {
   "cell_type": "code",
   "execution_count": null,
   "metadata": {},
   "outputs": [],
   "source": []
  }
 ],
 "metadata": {
  "kernelspec": {
   "display_name": "globe",
   "language": "python",
   "name": "python3"
  },
  "language_info": {
   "codemirror_mode": {
    "name": "ipython",
    "version": 3
   },
   "file_extension": ".py",
   "mimetype": "text/x-python",
   "name": "python",
   "nbconvert_exporter": "python",
   "pygments_lexer": "ipython3",
   "version": "3.10.4"
  }
 },
 "nbformat": 4,
 "nbformat_minor": 2
}
