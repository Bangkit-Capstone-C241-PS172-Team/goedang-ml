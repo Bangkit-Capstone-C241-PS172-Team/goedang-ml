{
 "cells": [
  {
   "cell_type": "markdown",
   "metadata": {},
   "source": [
    "## Preprocessing"
   ]
  },
  {
   "cell_type": "code",
   "execution_count": 1,
   "metadata": {},
   "outputs": [],
   "source": [
    "import pandas as pd\n",
    "import matplotlib.pyplot as plt"
   ]
  },
  {
   "cell_type": "code",
   "execution_count": 169,
   "metadata": {},
   "outputs": [
    {
     "data": {
      "text/html": [
       "<div>\n",
       "<style scoped>\n",
       "    .dataframe tbody tr th:only-of-type {\n",
       "        vertical-align: middle;\n",
       "    }\n",
       "\n",
       "    .dataframe tbody tr th {\n",
       "        vertical-align: top;\n",
       "    }\n",
       "\n",
       "    .dataframe thead th {\n",
       "        text-align: right;\n",
       "    }\n",
       "</style>\n",
       "<table border=\"1\" class=\"dataframe\">\n",
       "  <thead>\n",
       "    <tr style=\"text-align: right;\">\n",
       "      <th></th>\n",
       "      <th>tanggal</th>\n",
       "      <th>jenis</th>\n",
       "      <th>qty</th>\n",
       "      <th>harga</th>\n",
       "      <th>jumlah</th>\n",
       "    </tr>\n",
       "  </thead>\n",
       "  <tbody>\n",
       "    <tr>\n",
       "      <th>0</th>\n",
       "      <td>5/8/2023</td>\n",
       "      <td>CRPTT</td>\n",
       "      <td>900</td>\n",
       "      <td>16,500.00</td>\n",
       "      <td>14,850,000.00</td>\n",
       "    </tr>\n",
       "    <tr>\n",
       "      <th>1</th>\n",
       "      <td>5/10/2023</td>\n",
       "      <td>CRPTT</td>\n",
       "      <td>13</td>\n",
       "      <td>16,500.00</td>\n",
       "      <td>214,500.00</td>\n",
       "    </tr>\n",
       "    <tr>\n",
       "      <th>2</th>\n",
       "      <td>5/11/2023</td>\n",
       "      <td>CRPTT</td>\n",
       "      <td>5</td>\n",
       "      <td>16,500.00</td>\n",
       "      <td>82,500.00</td>\n",
       "    </tr>\n",
       "    <tr>\n",
       "      <th>3</th>\n",
       "      <td>5/11/2023</td>\n",
       "      <td>CRPTT</td>\n",
       "      <td>500</td>\n",
       "      <td>17,500.00</td>\n",
       "      <td>8,750,000.00</td>\n",
       "    </tr>\n",
       "    <tr>\n",
       "      <th>4</th>\n",
       "      <td>5/22/2023</td>\n",
       "      <td>CRPTT</td>\n",
       "      <td>6</td>\n",
       "      <td>16,000.00</td>\n",
       "      <td>96,000.00</td>\n",
       "    </tr>\n",
       "  </tbody>\n",
       "</table>\n",
       "</div>"
      ],
      "text/plain": [
       "     tanggal  jenis  qty      harga         jumlah\n",
       "0   5/8/2023  CRPTT  900  16,500.00  14,850,000.00\n",
       "1  5/10/2023  CRPTT   13  16,500.00     214,500.00\n",
       "2  5/11/2023  CRPTT    5  16,500.00      82,500.00\n",
       "3  5/11/2023  CRPTT  500  17,500.00   8,750,000.00\n",
       "4  5/22/2023  CRPTT    6  16,000.00      96,000.00"
      ]
     },
     "execution_count": 169,
     "metadata": {},
     "output_type": "execute_result"
    }
   ],
   "source": [
    "# read dataset\n",
    "data = pd.read_csv(\"../data/raws/ds_crptt.csv\")\n",
    "data.head()"
   ]
  },
  {
   "cell_type": "code",
   "execution_count": 170,
   "metadata": {},
   "outputs": [
    {
     "name": "stdout",
     "output_type": "stream",
     "text": [
      "<class 'pandas.core.frame.DataFrame'>\n",
      "RangeIndex: 171 entries, 0 to 170\n",
      "Data columns (total 5 columns):\n",
      " #   Column   Non-Null Count  Dtype \n",
      "---  ------   --------------  ----- \n",
      " 0   tanggal  171 non-null    object\n",
      " 1   jenis    171 non-null    object\n",
      " 2   qty      171 non-null    object\n",
      " 3   harga    171 non-null    object\n",
      " 4   jumlah   171 non-null    object\n",
      "dtypes: object(5)\n",
      "memory usage: 6.8+ KB\n"
     ]
    }
   ],
   "source": [
    "# membaca informasi data\n",
    "data.info()"
   ]
  },
  {
   "cell_type": "code",
   "execution_count": 171,
   "metadata": {},
   "outputs": [],
   "source": [
    "# copy data\n",
    "df = data.copy()"
   ]
  },
  {
   "cell_type": "code",
   "execution_count": 172,
   "metadata": {},
   "outputs": [],
   "source": [
    "# mengubah df type\n",
    "df['qty'] = df['qty'].str.strip().str.replace(',', '').astype(float)\n",
    "df['harga'] = df['harga'].str.strip().str.replace(',', '').astype(float)\n",
    "df['jumlah'] = df['jumlah'].str.strip().str.replace(',', '').astype(float)\n",
    "df['tanggal'] = pd.to_datetime(df['tanggal'], format='mixed')"
   ]
  },
  {
   "cell_type": "code",
   "execution_count": 173,
   "metadata": {},
   "outputs": [
    {
     "name": "stdout",
     "output_type": "stream",
     "text": [
      "<class 'pandas.core.frame.DataFrame'>\n",
      "RangeIndex: 171 entries, 0 to 170\n",
      "Data columns (total 5 columns):\n",
      " #   Column   Non-Null Count  Dtype         \n",
      "---  ------   --------------  -----         \n",
      " 0   tanggal  171 non-null    datetime64[ns]\n",
      " 1   jenis    171 non-null    object        \n",
      " 2   qty      171 non-null    float64       \n",
      " 3   harga    171 non-null    float64       \n",
      " 4   jumlah   171 non-null    float64       \n",
      "dtypes: datetime64[ns](1), float64(3), object(1)\n",
      "memory usage: 6.8+ KB\n"
     ]
    }
   ],
   "source": [
    "df.info()"
   ]
  },
  {
   "cell_type": "code",
   "execution_count": 174,
   "metadata": {},
   "outputs": [
    {
     "data": {
      "text/plain": [
       "tanggal    0\n",
       "jenis      0\n",
       "qty        0\n",
       "harga      0\n",
       "jumlah     0\n",
       "dtype: int64"
      ]
     },
     "execution_count": 174,
     "metadata": {},
     "output_type": "execute_result"
    }
   ],
   "source": [
    "# mengecek missing value\n",
    "df.isnull().sum()"
   ]
  },
  {
   "cell_type": "code",
   "execution_count": 175,
   "metadata": {},
   "outputs": [
    {
     "data": {
      "text/plain": [
       "0"
      ]
     },
     "execution_count": 175,
     "metadata": {},
     "output_type": "execute_result"
    }
   ],
   "source": [
    "# mengecek duplicate value\n",
    "df.duplicated().sum()"
   ]
  },
  {
   "cell_type": "code",
   "execution_count": 176,
   "metadata": {},
   "outputs": [
    {
     "data": {
      "text/html": [
       "<div>\n",
       "<style scoped>\n",
       "    .dataframe tbody tr th:only-of-type {\n",
       "        vertical-align: middle;\n",
       "    }\n",
       "\n",
       "    .dataframe tbody tr th {\n",
       "        vertical-align: top;\n",
       "    }\n",
       "\n",
       "    .dataframe thead th {\n",
       "        text-align: right;\n",
       "    }\n",
       "</style>\n",
       "<table border=\"1\" class=\"dataframe\">\n",
       "  <thead>\n",
       "    <tr style=\"text-align: right;\">\n",
       "      <th></th>\n",
       "      <th>tanggal</th>\n",
       "      <th>jenis</th>\n",
       "      <th>qty</th>\n",
       "      <th>harga</th>\n",
       "      <th>jumlah</th>\n",
       "    </tr>\n",
       "  </thead>\n",
       "  <tbody>\n",
       "    <tr>\n",
       "      <th>0</th>\n",
       "      <td>2023-05-08</td>\n",
       "      <td>CRPTT</td>\n",
       "      <td>900.0</td>\n",
       "      <td>16500.0</td>\n",
       "      <td>14850000.0</td>\n",
       "    </tr>\n",
       "    <tr>\n",
       "      <th>1</th>\n",
       "      <td>2023-05-10</td>\n",
       "      <td>CRPTT</td>\n",
       "      <td>13.0</td>\n",
       "      <td>16500.0</td>\n",
       "      <td>214500.0</td>\n",
       "    </tr>\n",
       "    <tr>\n",
       "      <th>2</th>\n",
       "      <td>2023-05-11</td>\n",
       "      <td>CRPTT</td>\n",
       "      <td>505.0</td>\n",
       "      <td>17000.0</td>\n",
       "      <td>8832500.0</td>\n",
       "    </tr>\n",
       "    <tr>\n",
       "      <th>3</th>\n",
       "      <td>2023-05-22</td>\n",
       "      <td>CRPTT</td>\n",
       "      <td>2688.0</td>\n",
       "      <td>16000.0</td>\n",
       "      <td>43008000.0</td>\n",
       "    </tr>\n",
       "    <tr>\n",
       "      <th>4</th>\n",
       "      <td>2023-05-23</td>\n",
       "      <td>CRPTT</td>\n",
       "      <td>318.0</td>\n",
       "      <td>16000.0</td>\n",
       "      <td>5088000.0</td>\n",
       "    </tr>\n",
       "  </tbody>\n",
       "</table>\n",
       "</div>"
      ],
      "text/plain": [
       "     tanggal  jenis     qty    harga      jumlah\n",
       "0 2023-05-08  CRPTT   900.0  16500.0  14850000.0\n",
       "1 2023-05-10  CRPTT    13.0  16500.0    214500.0\n",
       "2 2023-05-11  CRPTT   505.0  17000.0   8832500.0\n",
       "3 2023-05-22  CRPTT  2688.0  16000.0  43008000.0\n",
       "4 2023-05-23  CRPTT   318.0  16000.0   5088000.0"
      ]
     },
     "execution_count": 176,
     "metadata": {},
     "output_type": "execute_result"
    }
   ],
   "source": [
    "# group by tanggal\n",
    "df_group = df.groupby([\"tanggal\", \"jenis\"]).agg({\"qty\": \"sum\",\n",
    "                                                 \"harga\": \"mean\",\n",
    "                                                 \"jumlah\": \"sum\"}).reset_index()\n",
    "df_group.head()"
   ]
  },
  {
   "cell_type": "code",
   "execution_count": 177,
   "metadata": {},
   "outputs": [],
   "source": [
    "# create data range \n",
    "min_date = df_group['tanggal'].min()\n",
    "max_date = df_group['tanggal'].max()\n",
    "\n",
    "# buat range data tanggal\n",
    "date_range = pd.date_range(start=min_date, end=max_date)\n",
    "df_tanggal= pd.DataFrame(date_range, columns=['tanggal'])"
   ]
  },
  {
   "cell_type": "code",
   "execution_count": 178,
   "metadata": {},
   "outputs": [
    {
     "data": {
      "text/plain": [
       "(171, 5)"
      ]
     },
     "execution_count": 178,
     "metadata": {},
     "output_type": "execute_result"
    }
   ],
   "source": [
    "df_tanggal.head()\n",
    "df.shape"
   ]
  },
  {
   "cell_type": "code",
   "execution_count": 180,
   "metadata": {},
   "outputs": [
    {
     "data": {
      "text/html": [
       "<div>\n",
       "<style scoped>\n",
       "    .dataframe tbody tr th:only-of-type {\n",
       "        vertical-align: middle;\n",
       "    }\n",
       "\n",
       "    .dataframe tbody tr th {\n",
       "        vertical-align: top;\n",
       "    }\n",
       "\n",
       "    .dataframe thead th {\n",
       "        text-align: right;\n",
       "    }\n",
       "</style>\n",
       "<table border=\"1\" class=\"dataframe\">\n",
       "  <thead>\n",
       "    <tr style=\"text-align: right;\">\n",
       "      <th></th>\n",
       "      <th>tanggal</th>\n",
       "      <th>jenis</th>\n",
       "      <th>qty</th>\n",
       "      <th>harga</th>\n",
       "      <th>jumlah</th>\n",
       "    </tr>\n",
       "  </thead>\n",
       "  <tbody>\n",
       "    <tr>\n",
       "      <th>0</th>\n",
       "      <td>2023-05-08</td>\n",
       "      <td>CRPTT</td>\n",
       "      <td>900.0</td>\n",
       "      <td>16500.0</td>\n",
       "      <td>14850000.0</td>\n",
       "    </tr>\n",
       "    <tr>\n",
       "      <th>1</th>\n",
       "      <td>2023-05-09</td>\n",
       "      <td>NaN</td>\n",
       "      <td>NaN</td>\n",
       "      <td>NaN</td>\n",
       "      <td>NaN</td>\n",
       "    </tr>\n",
       "    <tr>\n",
       "      <th>2</th>\n",
       "      <td>2023-05-10</td>\n",
       "      <td>CRPTT</td>\n",
       "      <td>13.0</td>\n",
       "      <td>16500.0</td>\n",
       "      <td>214500.0</td>\n",
       "    </tr>\n",
       "    <tr>\n",
       "      <th>3</th>\n",
       "      <td>2023-05-11</td>\n",
       "      <td>CRPTT</td>\n",
       "      <td>505.0</td>\n",
       "      <td>17000.0</td>\n",
       "      <td>8832500.0</td>\n",
       "    </tr>\n",
       "    <tr>\n",
       "      <th>4</th>\n",
       "      <td>2023-05-12</td>\n",
       "      <td>NaN</td>\n",
       "      <td>NaN</td>\n",
       "      <td>NaN</td>\n",
       "      <td>NaN</td>\n",
       "    </tr>\n",
       "  </tbody>\n",
       "</table>\n",
       "</div>"
      ],
      "text/plain": [
       "     tanggal  jenis    qty    harga      jumlah\n",
       "0 2023-05-08  CRPTT  900.0  16500.0  14850000.0\n",
       "1 2023-05-09    NaN    NaN      NaN         NaN\n",
       "2 2023-05-10  CRPTT   13.0  16500.0    214500.0\n",
       "3 2023-05-11  CRPTT  505.0  17000.0   8832500.0\n",
       "4 2023-05-12    NaN    NaN      NaN         NaN"
      ]
     },
     "execution_count": 180,
     "metadata": {},
     "output_type": "execute_result"
    }
   ],
   "source": [
    "# menggabungkan dataset\n",
    "merged_df = pd.merge(df_tanggal, df_group, on='tanggal', how='left')\n",
    "merged_df.head()"
   ]
  },
  {
   "cell_type": "code",
   "execution_count": 181,
   "metadata": {},
   "outputs": [
    {
     "name": "stderr",
     "output_type": "stream",
     "text": [
      "C:\\Users\\Aditya\\AppData\\Local\\Temp\\ipykernel_8768\\2173981618.py:3: FutureWarning: A value is trying to be set on a copy of a DataFrame or Series through chained assignment using an inplace method.\n",
      "The behavior will change in pandas 3.0. This inplace method will never work because the intermediate object on which we are setting values always behaves as a copy.\n",
      "\n",
      "For example, when doing 'df[col].method(value, inplace=True)', try using 'df.method({col: value}, inplace=True)' or df[col] = df[col].method(value) instead, to perform the operation inplace on the original object.\n",
      "\n",
      "\n",
      "  merged_df[\"qty\"].interpolate(inplace=True)\n",
      "C:\\Users\\Aditya\\AppData\\Local\\Temp\\ipykernel_8768\\2173981618.py:4: FutureWarning: A value is trying to be set on a copy of a DataFrame or Series through chained assignment using an inplace method.\n",
      "The behavior will change in pandas 3.0. This inplace method will never work because the intermediate object on which we are setting values always behaves as a copy.\n",
      "\n",
      "For example, when doing 'df[col].method(value, inplace=True)', try using 'df.method({col: value}, inplace=True)' or df[col] = df[col].method(value) instead, to perform the operation inplace on the original object.\n",
      "\n",
      "\n",
      "  merged_df[\"jumlah\"].interpolate(inplace=True)\n",
      "C:\\Users\\Aditya\\AppData\\Local\\Temp\\ipykernel_8768\\2173981618.py:5: FutureWarning: A value is trying to be set on a copy of a DataFrame or Series through chained assignment using an inplace method.\n",
      "The behavior will change in pandas 3.0. This inplace method will never work because the intermediate object on which we are setting values always behaves as a copy.\n",
      "\n",
      "For example, when doing 'df[col].method(value, inplace=True)', try using 'df.method({col: value}, inplace=True)' or df[col] = df[col].method(value) instead, to perform the operation inplace on the original object.\n",
      "\n",
      "\n",
      "  merged_df[\"harga\"].interpolate(inplace=True)\n"
     ]
    },
    {
     "data": {
      "text/html": [
       "<div>\n",
       "<style scoped>\n",
       "    .dataframe tbody tr th:only-of-type {\n",
       "        vertical-align: middle;\n",
       "    }\n",
       "\n",
       "    .dataframe tbody tr th {\n",
       "        vertical-align: top;\n",
       "    }\n",
       "\n",
       "    .dataframe thead th {\n",
       "        text-align: right;\n",
       "    }\n",
       "</style>\n",
       "<table border=\"1\" class=\"dataframe\">\n",
       "  <thead>\n",
       "    <tr style=\"text-align: right;\">\n",
       "      <th></th>\n",
       "      <th>tanggal</th>\n",
       "      <th>jenis</th>\n",
       "      <th>qty</th>\n",
       "      <th>harga</th>\n",
       "      <th>jumlah</th>\n",
       "    </tr>\n",
       "  </thead>\n",
       "  <tbody>\n",
       "    <tr>\n",
       "      <th>0</th>\n",
       "      <td>2023-05-08</td>\n",
       "      <td>CRPTT</td>\n",
       "      <td>900.000000</td>\n",
       "      <td>16500.000000</td>\n",
       "      <td>1.485000e+07</td>\n",
       "    </tr>\n",
       "    <tr>\n",
       "      <th>1</th>\n",
       "      <td>2023-05-09</td>\n",
       "      <td>CRPTT</td>\n",
       "      <td>456.500000</td>\n",
       "      <td>16500.000000</td>\n",
       "      <td>7.532250e+06</td>\n",
       "    </tr>\n",
       "    <tr>\n",
       "      <th>2</th>\n",
       "      <td>2023-05-10</td>\n",
       "      <td>CRPTT</td>\n",
       "      <td>13.000000</td>\n",
       "      <td>16500.000000</td>\n",
       "      <td>2.145000e+05</td>\n",
       "    </tr>\n",
       "    <tr>\n",
       "      <th>3</th>\n",
       "      <td>2023-05-11</td>\n",
       "      <td>CRPTT</td>\n",
       "      <td>505.000000</td>\n",
       "      <td>17000.000000</td>\n",
       "      <td>8.832500e+06</td>\n",
       "    </tr>\n",
       "    <tr>\n",
       "      <th>4</th>\n",
       "      <td>2023-05-12</td>\n",
       "      <td>CRPTT</td>\n",
       "      <td>703.454545</td>\n",
       "      <td>16909.090909</td>\n",
       "      <td>1.193936e+07</td>\n",
       "    </tr>\n",
       "  </tbody>\n",
       "</table>\n",
       "</div>"
      ],
      "text/plain": [
       "     tanggal  jenis         qty         harga        jumlah\n",
       "0 2023-05-08  CRPTT  900.000000  16500.000000  1.485000e+07\n",
       "1 2023-05-09  CRPTT  456.500000  16500.000000  7.532250e+06\n",
       "2 2023-05-10  CRPTT   13.000000  16500.000000  2.145000e+05\n",
       "3 2023-05-11  CRPTT  505.000000  17000.000000  8.832500e+06\n",
       "4 2023-05-12  CRPTT  703.454545  16909.090909  1.193936e+07"
      ]
     },
     "execution_count": 181,
     "metadata": {},
     "output_type": "execute_result"
    }
   ],
   "source": [
    "# mengisi nilai kosong\n",
    "merged_df[\"jenis\"] = merged_df[\"jenis\"].fillna(\"CRPTT\")\n",
    "merged_df[\"qty\"].interpolate(inplace=True)\n",
    "merged_df[\"jumlah\"].interpolate(inplace=True)\n",
    "merged_df[\"harga\"].interpolate(inplace=True)\n",
    "merged_df.head()"
   ]
  },
  {
   "cell_type": "code",
   "execution_count": 182,
   "metadata": {},
   "outputs": [
    {
     "name": "stdout",
     "output_type": "stream",
     "text": [
      "tanggal    0\n",
      "jenis      0\n",
      "qty        0\n",
      "harga      0\n",
      "jumlah     0\n",
      "dtype: int64\n",
      "0\n"
     ]
    }
   ],
   "source": [
    "print(merged_df.isnull().sum())\n",
    "print(merged_df.duplicated().sum())"
   ]
  },
  {
   "cell_type": "code",
   "execution_count": 183,
   "metadata": {},
   "outputs": [],
   "source": [
    "# save dataset\n",
    "merged_df.to_csv(\"../data/cleans/dataset_crptt.csv\", index=False)"
   ]
  },
  {
   "cell_type": "code",
   "execution_count": null,
   "metadata": {},
   "outputs": [],
   "source": []
  },
  {
   "cell_type": "code",
   "execution_count": null,
   "metadata": {},
   "outputs": [],
   "source": []
  },
  {
   "cell_type": "code",
   "execution_count": null,
   "metadata": {},
   "outputs": [],
   "source": []
  }
 ],
 "metadata": {
  "kernelspec": {
   "display_name": "globe",
   "language": "python",
   "name": "python3"
  },
  "language_info": {
   "codemirror_mode": {
    "name": "ipython",
    "version": 3
   },
   "file_extension": ".py",
   "mimetype": "text/x-python",
   "name": "python",
   "nbconvert_exporter": "python",
   "pygments_lexer": "ipython3",
   "version": "3.10.4"
  }
 },
 "nbformat": 4,
 "nbformat_minor": 2
}
